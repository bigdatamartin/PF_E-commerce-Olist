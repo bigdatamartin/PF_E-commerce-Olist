{
 "cells": [
  {
   "attachments": {},
   "cell_type": "markdown",
   "metadata": {},
   "source": [
    "Importing libraries that are going to be used in this ETL process"
   ]
  },
  {
   "cell_type": "code",
   "execution_count": null,
   "metadata": {},
   "outputs": [],
   "source": [
    "import numpy as np\n",
    "import pandas as pd\n",
    "import requests\n",
    "import os"
   ]
  },
  {
   "attachments": {},
   "cell_type": "markdown",
   "metadata": {},
   "source": [
    "Define function that imports thatafiles from the github repository"
   ]
  },
  {
   "cell_type": "code",
   "execution_count": null,
   "metadata": {},
   "outputs": [],
   "source": [
    "def import_datafiles():\n",
    "\n",
    "    try:\n",
    "        os.mkdir(\"./Datasets\")\n",
    "\n",
    "    except:\n",
    "        print(\"directory already exists\")\n",
    "\n",
    "    read = requests.get(\n",
    "        \"https://github.com/mecadme/PF_E-commerce-Olist/blob/main/Datasets/olist_closed_deals_dataset.csv?raw=true\"\n",
    "    )\n",
    "    with open(\"./Datasets/olist_closed_deals_dataset.csv\", \"wb\") as file:\n",
    "        file.write(read.content)\n",
    "\n",
    "    read = requests.get(\n",
    "        \"https://github.com/mecadme/PF_E-commerce-Olist/blob/main/Datasets/olist_customers_dataset.csv?raw=true\"\n",
    "    )\n",
    "    with open(\"./Datasets/olist_customers_dataset.csv\", \"wb\") as file:\n",
    "        file.write(read.content)\n",
    "\n",
    "    read = requests.get(\n",
    "        \"https://github.com/mecadme/PF_E-commerce-Olist/blob/main/Datasets/olist_geolocation_dataset.csv?raw=true\"\n",
    "    )\n",
    "    with open(\"./Datasets/olist_geolocation_dataset.csv\", \"wb\") as file:\n",
    "        file.write(read.content)\n",
    "\n",
    "    read = requests.get(\n",
    "        \"https://github.com/mecadme/PF_E-commerce-Olist/blob/main/Datasets/olist_marketing_qualified_leads_dataset.csv?raw=true\"\n",
    "    )\n",
    "    with open(\"./Datasets/olist_marketing_qualified_leads_dataset.csv\", \"wb\") as file:\n",
    "        file.write(read.content)\n",
    "\n",
    "    read = requests.get(\n",
    "        \"https://github.com/mecadme/PF_E-commerce-Olist/blob/main/Datasets/olist_order_items_dataset.csv?raw=true\"\n",
    "    )\n",
    "    with open(\"./Datasets/olist_order_items_dataset.csv\", \"wb\") as file:\n",
    "        file.write(read.content)\n",
    "\n",
    "    read = requests.get(\n",
    "        \"https://github.com/mecadme/PF_E-commerce-Olist/blob/main/Datasets/olist_order_payments_dataset.csv?raw=true\"\n",
    "    )\n",
    "    with open(\"./Datasets/olist_order_payments_dataset.csv\", \"wb\") as file:\n",
    "        file.write(read.content)\n",
    "\n",
    "    read = requests.get(\n",
    "        \"https://github.com/mecadme/PF_E-commerce-Olist/blob/main/Datasets/olist_order_reviews_dataset.csv?raw=true\"\n",
    "    )\n",
    "    with open(\"./Datasets/olist_order_reviews_dataset.csv\", \"wb\") as file:\n",
    "        file.write(read.content)\n",
    "\n",
    "    read = requests.get(\n",
    "        \"https://github.com/mecadme/PF_E-commerce-Olist/blob/main/Datasets/product_category_name_translation.csv?raw=true\"\n",
    "    )\n",
    "    with open(\"./Datasets/product_category_name_translation.csv\", \"wb\") as file:\n",
    "        file.write(read.content)\n",
    "\n",
    "    read = requests.get(\n",
    "        \"https://github.com/mecadme/PF_E-commerce-Olist/blob/main/Datasets/olist_sellers_dataset.csv?raw=true\"\n",
    "    )\n",
    "    with open(\"./Datasets/olist_sellers_dataset.csv\", \"wb\") as file:\n",
    "        file.write(read.content)\n",
    "\n",
    "    read = requests.get(\n",
    "        \"https://github.com/mecadme/PF_E-commerce-Olist/blob/main/Datasets/olist_products_dataset.csv?raw=true\"\n",
    "    )\n",
    "    with open(\"./Datasets/olist_products_dataset.csv\", \"wb\") as file:\n",
    "        file.write(read.content)\n",
    "\n",
    "    read = requests.get(\n",
    "        \"https://github.com/mecadme/PF_E-commerce-Olist/blob/main/Datasets/olist_orders_dataset.csv?raw=true\"\n",
    "    )\n",
    "    with open(\"./Datasets/olist_orders_dataset.csv\", \"wb\") as file:\n",
    "        file.write(read.content)\n",
    "        \n",
    "    read = requests.get(\n",
    "        \"https://github.com/mecadme/PF_E-commerce-Olist/blob/main/Datasets/worldbankLatinAmerica.csv?raw=true\"\n",
    "    )\n",
    "    with open(\"./Datasets/worldbankLatinAmerica.csv\", \"wb\") as file:\n",
    "        file.write(read.content)\n",
    "\n",
    "  \n",
    "import_datafiles()"
   ]
  },
  {
   "attachments": {},
   "cell_type": "markdown",
   "metadata": {},
   "source": [
    "Read All Datafiles and convert them to dataframes through pandas"
   ]
  },
  {
   "cell_type": "code",
   "execution_count": null,
   "metadata": {},
   "outputs": [],
   "source": [
    "closed_deals = pd.read_csv(\"./Datasets/olist_closed_deals_dataset.csv\")\n",
    "customers = pd.read_csv(\"./Datasets/olist_customers_dataset.csv\")\n",
    "geolocation = pd.read_csv(\"./Datasets/olist_geolocation_dataset.csv\")\n",
    "qualified_leads = pd.read_csv(\"./Datasets/olist_marketing_qualified_leads_dataset.csv\")\n",
    "order_payments = pd.read_csv(\"./Datasets/olist_order_payments_dataset.csv\")\n",
    "products = pd.read_csv(\"./Datasets/olist_products_dataset.csv\")\n",
    "sellers = pd.read_csv(\"./Datasets/olist_sellers_dataset.csv\")\n",
    "product_translation = pd.read_csv(\"./Datasets/product_category_name_translation.csv\")\n",
    "worldbank = pd.read_csv(\"./Datasets/worldbankLatinAmerica.csv\")\n",
    "order_items = pd.read_csv(\n",
    "    \"./Datasets/olist_order_items_dataset.csv\",\n",
    "    parse_dates=[\"shipping_limit_date\"],\n",
    "    infer_datetime_format=True,\n",
    ")\n",
    "order_reviews = pd.read_csv(\n",
    "    \"./Datasets/olist_order_reviews_dataset.csv\",\n",
    "    parse_dates=[\"review_creation_date\", \"review_answer_timestamp\"],\n",
    "    infer_datetime_format=True,\n",
    ")\n",
    "orders = pd.read_csv(\n",
    "    \"./Datasets/olist_orders_dataset.csv\",\n",
    "    parse_dates=[\n",
    "        \"order_purchase_timestamp\",\n",
    "        \"order_approved_at\",\n",
    "        \"order_delivered_carrier_date\",\n",
    "        \"order_delivered_customer_date\",\n",
    "        \"order_estimated_delivery_date\",\n",
    "    ],\n",
    "    infer_datetime_format=True,\n",
    ")"
   ]
  },
  {
   "attachments": {},
   "cell_type": "markdown",
   "metadata": {},
   "source": [
    "define function that drops unwanted columns that has 70% or more Null values"
   ]
  },
  {
   "cell_type": "code",
   "execution_count": null,
   "metadata": {},
   "outputs": [],
   "source": [
    "def dropcolumns(dataframe):\n",
    "    for column in dataframe:\n",
    "        d= dataframe[column].isna().sum()\n",
    "        f = (dataframe[column].notna().sum()+(dataframe[column].isna().sum()))\n",
    "        if d/f >= 0.7:\n",
    "            del dataframe[column]"
   ]
  },
  {
   "attachments": {},
   "cell_type": "markdown",
   "metadata": {},
   "source": [
    "Use function to drop columns for each dataframe"
   ]
  },
  {
   "cell_type": "code",
   "execution_count": null,
   "metadata": {},
   "outputs": [],
   "source": [
    "dropcolumns(order_items)\n",
    "dropcolumns(order_payments)\n",
    "dropcolumns(order_reviews)\n",
    "dropcolumns(orders)\n",
    "dropcolumns(closed_deals)\n",
    "dropcolumns(geolocation)\n",
    "dropcolumns(customers)\n",
    "dropcolumns(qualified_leads)\n",
    "dropcolumns(sellers)\n",
    "dropcolumns(products)\n",
    "dropcolumns(product_translation)\n",
    "\n"
   ]
  },
  {
   "attachments": {},
   "cell_type": "markdown",
   "metadata": {},
   "source": [
    "Drop duplicate"
   ]
  },
  {
   "cell_type": "code",
   "execution_count": null,
   "metadata": {},
   "outputs": [],
   "source": [
    "order_reviews = order_reviews.drop_duplicates(subset=\"review_id\", keep=\"last\")\n",
    "geolocation = geolocation.drop_duplicates(subset=\"geolocation_zip_code_prefix\", keep=\"last\")\n",
    "geolocation = geolocation.drop_duplicates(subset=['zip_code_prefix',\"city\", \"state\"])"
   ]
  },
  {
   "attachments": {},
   "cell_type": "markdown",
   "metadata": {},
   "source": [
    "Rename columns to normalize"
   ]
  },
  {
   "cell_type": "code",
   "execution_count": null,
   "metadata": {},
   "outputs": [],
   "source": [
    "customers = customers.rename(\n",
    "    columns={\n",
    "        \"customer_zip_code_prefix\": \"zip_code_prefix\",\n",
    "        \"customer_city\": \"city\",\n",
    "        \"customer_state\": \"state\",\n",
    "    }\n",
    ")\n",
    "geolocation = geolocation.rename(\n",
    "    columns={\n",
    "        \"geolocation_zip_code_prefix\": \"zip_code_prefix\",\n",
    "        \"geolocation_city\": \"city\",\n",
    "        \"geolocation_state\": \"state\",\n",
    "        \"geolocation_lat\": \"latitude\",\n",
    "        \"geolocation_lng\": \"longitude\",\n",
    "    }\n",
    ")\n",
    "order_reviews = order_reviews.rename(\n",
    "    columns={\n",
    "        \"review_comment_message\": \"comment_message\",\n",
    "        \"review_creation_date\": \"creation_date\",\n",
    "        \"review_comment_title\": \"comment_title\",\n",
    "        \"review_answer_timestamp\": \"answer_timestamp\",\n",
    "    }\n",
    ")\n",
    "order_items = order_items.rename(columns={\"order_item_id\": \"product_quantity\"})\n",
    "sellers = sellers.rename(\n",
    "    columns={\n",
    "        \"seller_zip_code_prefix\": \"zip_code_prefix\",\n",
    "        \"seller_city\": \"city\",\n",
    "        \"seller_state\": \"state\",\n",
    "    }\n",
    ")\n",
    "orders = orders.rename(\n",
    "    columns={\n",
    "        \"order_purchase_timestamp\": \"purchase_timestamp\",\n",
    "        \"order_delivered_carrier_date\": \"delivered_carrier_date\",\n",
    "        \"order_delivered_customer_date\": \"delivered_customer_date\",\n",
    "        \"order_estimated_delivery_date\": \"estimated_delivery_date\",\n",
    "    }\n",
    ")\n",
    "products = products.rename(\n",
    "    columns={\n",
    "        \"product_description_lenght\": \"description_length\",\n",
    "        \"product_name_lenght\": \"name_length\",\n",
    "        \"product_weight_g\": \"weight_g\",\n",
    "        \"product_length_cm\": \"length_cm\",\n",
    "        \"product_height_cm\": \"height_cm\",\n",
    "        \"product_width_cm\": \"width_cm\",\n",
    "        \"product_photos_qty\": \"photos_quantity\",\n",
    "    }\n",
    "worldbank = worldbank.rename(\n",
    "    columns={\n",
    "        \"país Name\": \"country\",\n",
    "        \"país Code\": \"country code\",\n",
    "        \"serie Name\": \"serie name\",\n",
    "        \"serie Code\": \"serie code\",\n",
    "        \"2017 [YR2017]\": \"2017\",\n",
    "        \"2018 [YR2018]\": \"2018\",\n",
    "        \"2019 [YR2019]\": \"2019\",\n",
    "        \"2020 [YR2020]\": \"2020\",\n",
    "        \"2021 [YR2021]\": \"2021\"})\n",
    "        \n",
    ")"
   ]
  },
  {
   "attachments": {},
   "cell_type": "markdown",
   "metadata": {},
   "source": [
    "merge geolocation and customers by zip code prefix, city and state to analize"
   ]
  },
  {
   "cell_type": "code",
   "execution_count": null,
   "metadata": {},
   "outputs": [],
   "source": [
    "pd.merge(customers, geolocation, how=\"left\", left_on=[\"zip_code_prefix\", \"city\", \"state\"], right_on=[\"zip_code_prefix\", \"city\", \"state\"])"
   ]
  },
  {
   "attachments": {},
   "cell_type": "markdown",
   "metadata": {},
   "source": [
    "Normalize and transform worldbank dataframe to match other dataframes"
   ]
  },
  {
   "cell_type": "code",
   "execution_count": null,
   "metadata": {},
   "outputs": [],
   "source": [
    "worldbank.dropna(axis=0, subset=['country code'], inplace=True)\n",
    "df = worldbank.pivot(index='country', columns='serie name', values='2017')\n",
    "df[\"year\"]= \"12/31/2017\"\n",
    "df['year'] = pd.to_datetime(df.year).dt.strftime('%Y')\n",
    "df2 = worldbank.pivot(index='country', columns='serie name', values='2018')\n",
    "df= df.append(df2)\n",
    "df = df.fillna(2018)\n",
    "df2 = worldbank.pivot(index='country', columns='serie name', values='2019')\n",
    "df= df.append(df2)\n",
    "df = df.fillna(2019)\n",
    "df2 = worldbank.pivot(index='country', columns='serie name', values='2020')\n",
    "df= df.append(df2)\n",
    "df = df.fillna(2020)\n",
    "df2 = worldbank.pivot(index='country', columns='serie name', values='2021')\n",
    "df= df.append(df2)\n",
    "df = df.fillna(2021)\n",
    "df= df.replace(\"..\", 0)"
   ]
  },
  {
   "attachments": {},
   "cell_type": "markdown",
   "metadata": {},
   "source": [
    "Export Dataframe to .CSV"
   ]
  },
  {
   "cell_type": "code",
   "execution_count": null,
   "metadata": {},
   "outputs": [],
   "source": [
    "df.to_csv(\"./Worldbank.csv\")"
   ]
  }
 ],
 "metadata": {
  "kernelspec": {
   "display_name": "Python 3",
   "language": "python",
   "name": "python3"
  },
  "language_info": {
   "codemirror_mode": {
    "name": "ipython",
    "version": 3
   },
   "file_extension": ".py",
   "mimetype": "text/x-python",
   "name": "python",
   "nbconvert_exporter": "python",
   "pygments_lexer": "ipython3",
   "version": "3.10.5 (tags/v3.10.5:f377153, Jun  6 2022, 16:14:13) [MSC v.1929 64 bit (AMD64)]"
  },
  "orig_nbformat": 4,
  "vscode": {
   "interpreter": {
    "hash": "2469a70536e4d2335a2ea8907942d0699c37342a371ac185bdb5b0aa6f073890"
   }
  }
 },
 "nbformat": 4,
 "nbformat_minor": 2
}
